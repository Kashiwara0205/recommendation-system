{
 "cells": [
  {
   "cell_type": "markdown",
   "metadata": {},
   "source": [
    "# TfidfVectorizerの特徴\n",
    "\n",
    "TfidfVectorizerはテキスト同士の類似度を算出するのに適している  \n",
    "各テキストごとの特徴を計算に入れる\n",
    "\n",
    "## test-data\n",
    "1: BANANA APPLE BANANA DOG\n",
    "BANANA x 2 APPLE x 1 DOG x 1  \n",
    "\n",
    "BANANAの単語数が多いので、BANANAのスコアが高くなる\n",
    "  \n",
    "2: BOOK BANANA APPLE CAT  \n",
    "BANANA x 1 BOOK x 1 APPLE x 1 CAT x 1   \n",
    "  \n",
    "各単語はバラバラなのでスコアが分散される\n",
    "  \n",
    "3: BANANA BANANA BANANA DOG  \n",
    "BANANA x 3 DOG x 1  \n",
    "\n",
    "BANANAの単語数が多いので、BANANAのスコアが高くなる\n",
    "\n",
    "4:DOG BANANA BANANA BANANA\n",
    "BANANA x 3 DOG x 1 \n",
    "\n",
    "3と並びが違うだけ\n",
    "\n"
   ]
  },
  {
   "cell_type": "code",
   "execution_count": 1,
   "metadata": {
    "scrolled": false
   },
   "outputs": [
    {
     "data": {
      "text/html": [
       "<div>\n",
       "<style scoped>\n",
       "    .dataframe tbody tr th:only-of-type {\n",
       "        vertical-align: middle;\n",
       "    }\n",
       "\n",
       "    .dataframe tbody tr th {\n",
       "        vertical-align: top;\n",
       "    }\n",
       "\n",
       "    .dataframe thead th {\n",
       "        text-align: right;\n",
       "    }\n",
       "</style>\n",
       "<table border=\"1\" class=\"dataframe\">\n",
       "  <thead>\n",
       "    <tr style=\"text-align: right;\">\n",
       "      <th></th>\n",
       "      <th>id</th>\n",
       "      <th>word</th>\n",
       "    </tr>\n",
       "  </thead>\n",
       "  <tbody>\n",
       "    <tr>\n",
       "      <th>0</th>\n",
       "      <td>1</td>\n",
       "      <td>BANANA APPLE BANANA DOG</td>\n",
       "    </tr>\n",
       "    <tr>\n",
       "      <th>1</th>\n",
       "      <td>2</td>\n",
       "      <td>BOOK BANANA APPLE CAT</td>\n",
       "    </tr>\n",
       "    <tr>\n",
       "      <th>2</th>\n",
       "      <td>3</td>\n",
       "      <td>BANANA BANANA BANANA DOG</td>\n",
       "    </tr>\n",
       "    <tr>\n",
       "      <th>3</th>\n",
       "      <td>4</td>\n",
       "      <td>DOG BANANA BANANA BANANA</td>\n",
       "    </tr>\n",
       "    <tr>\n",
       "      <th>4</th>\n",
       "      <td>5</td>\n",
       "      <td>BANANA BANANA DOG BANANA</td>\n",
       "    </tr>\n",
       "  </tbody>\n",
       "</table>\n",
       "</div>"
      ],
      "text/plain": [
       "   id                      word\n",
       "0   1   BANANA APPLE BANANA DOG\n",
       "1   2     BOOK BANANA APPLE CAT\n",
       "2   3  BANANA BANANA BANANA DOG\n",
       "3   4  DOG BANANA BANANA BANANA\n",
       "4   5  BANANA BANANA DOG BANANA"
      ]
     },
     "execution_count": 1,
     "metadata": {},
     "output_type": "execute_result"
    }
   ],
   "source": [
    "import pandas as pd\n",
    "from sklearn.feature_extraction.text import TfidfVectorizer\n",
    "\n",
    "tfids = TfidfVectorizer(stop_words=\"english\")\n",
    "\n",
    "test_ids = [1, 2, 3, 4, 5, 6]\n",
    "test_words = ['BANANA APPLE BANANA DOG', 'BOOK BANANA APPLE CAT', 'BANANA BANANA BANANA DOG', 'DOG BANANA BANANA BANANA',\n",
    "              'BANANA BANANA DOG BANANA',  'BANANA DOG BANANA BANANA', \n",
    "             ]\n",
    "\n",
    "df = pd.DataFrame({ 'id': test_ids, 'word': test_words})\n",
    "df.head()"
   ]
  },
  {
   "cell_type": "markdown",
   "metadata": {},
   "source": [
    "## 特徴\n",
    "\n",
    "- 単語数が多いと、その分だけスコアが増える\n",
    "- 各、wordはそれぞれに関係する(例えば、word0でcatが出現すると、word1のcatのスコアが下がりbookのスコアが上がる)"
   ]
  },
  {
   "cell_type": "code",
   "execution_count": 2,
   "metadata": {
    "scrolled": true
   },
   "outputs": [
    {
     "data": {
      "text/html": [
       "<div>\n",
       "<style scoped>\n",
       "    .dataframe tbody tr th:only-of-type {\n",
       "        vertical-align: middle;\n",
       "    }\n",
       "\n",
       "    .dataframe tbody tr th {\n",
       "        vertical-align: top;\n",
       "    }\n",
       "\n",
       "    .dataframe thead th {\n",
       "        text-align: right;\n",
       "    }\n",
       "</style>\n",
       "<table border=\"1\" class=\"dataframe\">\n",
       "  <thead>\n",
       "    <tr style=\"text-align: right;\">\n",
       "      <th></th>\n",
       "      <th>apple</th>\n",
       "      <th>banana</th>\n",
       "      <th>book</th>\n",
       "      <th>cat</th>\n",
       "      <th>dog</th>\n",
       "    </tr>\n",
       "  </thead>\n",
       "  <tbody>\n",
       "    <tr>\n",
       "      <th>0</th>\n",
       "      <td>0.624694</td>\n",
       "      <td>0.676333</td>\n",
       "      <td>0.000000</td>\n",
       "      <td>0.000000</td>\n",
       "      <td>0.390295</td>\n",
       "    </tr>\n",
       "    <tr>\n",
       "      <th>1</th>\n",
       "      <td>0.484084</td>\n",
       "      <td>0.262050</td>\n",
       "      <td>0.590336</td>\n",
       "      <td>0.590336</td>\n",
       "      <td>0.000000</td>\n",
       "    </tr>\n",
       "    <tr>\n",
       "      <th>2</th>\n",
       "      <td>0.000000</td>\n",
       "      <td>0.933314</td>\n",
       "      <td>0.000000</td>\n",
       "      <td>0.000000</td>\n",
       "      <td>0.359062</td>\n",
       "    </tr>\n",
       "    <tr>\n",
       "      <th>3</th>\n",
       "      <td>0.000000</td>\n",
       "      <td>0.933314</td>\n",
       "      <td>0.000000</td>\n",
       "      <td>0.000000</td>\n",
       "      <td>0.359062</td>\n",
       "    </tr>\n",
       "    <tr>\n",
       "      <th>4</th>\n",
       "      <td>0.000000</td>\n",
       "      <td>0.933314</td>\n",
       "      <td>0.000000</td>\n",
       "      <td>0.000000</td>\n",
       "      <td>0.359062</td>\n",
       "    </tr>\n",
       "    <tr>\n",
       "      <th>5</th>\n",
       "      <td>0.000000</td>\n",
       "      <td>0.933314</td>\n",
       "      <td>0.000000</td>\n",
       "      <td>0.000000</td>\n",
       "      <td>0.359062</td>\n",
       "    </tr>\n",
       "  </tbody>\n",
       "</table>\n",
       "</div>"
      ],
      "text/plain": [
       "      apple    banana      book       cat       dog\n",
       "0  0.624694  0.676333  0.000000  0.000000  0.390295\n",
       "1  0.484084  0.262050  0.590336  0.590336  0.000000\n",
       "2  0.000000  0.933314  0.000000  0.000000  0.359062\n",
       "3  0.000000  0.933314  0.000000  0.000000  0.359062\n",
       "4  0.000000  0.933314  0.000000  0.000000  0.359062\n",
       "5  0.000000  0.933314  0.000000  0.000000  0.359062"
      ]
     },
     "execution_count": 2,
     "metadata": {},
     "output_type": "execute_result"
    }
   ],
   "source": [
    "from sklearn.metrics.pairwise import linear_kernel\n",
    "\n",
    "tfidf_matrix = tfids.fit_transform(df['word'])\n",
    "cosine_sim = linear_kernel(tfidf_matrix, tfidf_matrix)\n",
    "pd.DataFrame(tfidf_matrix.toarray(), columns=tfids.get_feature_names())"
   ]
  },
  {
   "cell_type": "markdown",
   "metadata": {},
   "source": [
    "word0にcatを出現させたバージョンで類似度を出力する  \n",
    "bookのスコアが上昇して、catのスコアが下がった事が分かる  "
   ]
  },
  {
   "cell_type": "code",
   "execution_count": 3,
   "metadata": {},
   "outputs": [
    {
     "data": {
      "text/html": [
       "<div>\n",
       "<style scoped>\n",
       "    .dataframe tbody tr th:only-of-type {\n",
       "        vertical-align: middle;\n",
       "    }\n",
       "\n",
       "    .dataframe tbody tr th {\n",
       "        vertical-align: top;\n",
       "    }\n",
       "\n",
       "    .dataframe thead th {\n",
       "        text-align: right;\n",
       "    }\n",
       "</style>\n",
       "<table border=\"1\" class=\"dataframe\">\n",
       "  <thead>\n",
       "    <tr style=\"text-align: right;\">\n",
       "      <th></th>\n",
       "      <th>apple</th>\n",
       "      <th>banana</th>\n",
       "      <th>book</th>\n",
       "      <th>cat</th>\n",
       "      <th>dog</th>\n",
       "    </tr>\n",
       "  </thead>\n",
       "  <tbody>\n",
       "    <tr>\n",
       "      <th>0</th>\n",
       "      <td>0.609080</td>\n",
       "      <td>0.659428</td>\n",
       "      <td>0.000000</td>\n",
       "      <td>0.000000</td>\n",
       "      <td>0.440654</td>\n",
       "    </tr>\n",
       "    <tr>\n",
       "      <th>1</th>\n",
       "      <td>0.514331</td>\n",
       "      <td>0.278423</td>\n",
       "      <td>0.627222</td>\n",
       "      <td>0.514331</td>\n",
       "      <td>0.000000</td>\n",
       "    </tr>\n",
       "    <tr>\n",
       "      <th>2</th>\n",
       "      <td>0.000000</td>\n",
       "      <td>0.851513</td>\n",
       "      <td>0.000000</td>\n",
       "      <td>0.524333</td>\n",
       "      <td>0.000000</td>\n",
       "    </tr>\n",
       "    <tr>\n",
       "      <th>3</th>\n",
       "      <td>0.000000</td>\n",
       "      <td>0.913456</td>\n",
       "      <td>0.000000</td>\n",
       "      <td>0.000000</td>\n",
       "      <td>0.406936</td>\n",
       "    </tr>\n",
       "    <tr>\n",
       "      <th>4</th>\n",
       "      <td>0.000000</td>\n",
       "      <td>0.913456</td>\n",
       "      <td>0.000000</td>\n",
       "      <td>0.000000</td>\n",
       "      <td>0.406936</td>\n",
       "    </tr>\n",
       "    <tr>\n",
       "      <th>5</th>\n",
       "      <td>0.000000</td>\n",
       "      <td>0.913456</td>\n",
       "      <td>0.000000</td>\n",
       "      <td>0.000000</td>\n",
       "      <td>0.406936</td>\n",
       "    </tr>\n",
       "  </tbody>\n",
       "</table>\n",
       "</div>"
      ],
      "text/plain": [
       "      apple    banana      book       cat       dog\n",
       "0  0.609080  0.659428  0.000000  0.000000  0.440654\n",
       "1  0.514331  0.278423  0.627222  0.514331  0.000000\n",
       "2  0.000000  0.851513  0.000000  0.524333  0.000000\n",
       "3  0.000000  0.913456  0.000000  0.000000  0.406936\n",
       "4  0.000000  0.913456  0.000000  0.000000  0.406936\n",
       "5  0.000000  0.913456  0.000000  0.000000  0.406936"
      ]
     },
     "execution_count": 3,
     "metadata": {},
     "output_type": "execute_result"
    }
   ],
   "source": [
    "test_ids2 = [1, 2, 3]\n",
    "test_words2 = ['BANANA APPLE BANANA DOG', 'BOOK BANANA APPLE CAT', 'BANANA BANANA BANANA CAT',  'DOG BANANA BANANA BANANA',\n",
    "              'BANANA BANANA DOG BANANA',  'BANANA DOG BANANA BANANA', ]\n",
    "\n",
    "df2 = pd.DataFrame({ 'id': test_ids, 'word': test_words2})\n",
    "\n",
    "tfidf_matrix2 = tfids.fit_transform(df2['word'])\n",
    "pd.DataFrame(tfidf_matrix2.toarray(), columns=tfids.get_feature_names())"
   ]
  },
  {
   "cell_type": "code",
   "execution_count": 4,
   "metadata": {},
   "outputs": [],
   "source": [
    "indicies = pd.Series(df.index, index=df['word']).drop_duplicates()\n",
    "\n",
    "def recommend(word, cosine_sim=cosine_sim, df=df, indicies=indicies):\n",
    "    idx = indicies[word]\n",
    "    \n",
    "    sim_scores = list(enumerate(cosine_sim[idx]))\n",
    "    sim_scores = sorted(sim_scores, key=lambda x: x[1],  reverse=True)\n",
    "    sim_scores = sim_scores[1:4]\n",
    "    \n",
    "    movie_indices = [i[0] for i in  sim_scores]\n",
    "    \n",
    "    return df['word'].iloc[movie_indices]"
   ]
  },
  {
   "cell_type": "markdown",
   "metadata": {},
   "source": [
    "- DOGの重みが大きくなりテキスト同士が引っ張られる\n",
    "- データ4,5,6から考えて類似度抽出のロジックにソート順は関係なさそう"
   ]
  },
  {
   "cell_type": "code",
   "execution_count": 5,
   "metadata": {
    "scrolled": true
   },
   "outputs": [
    {
     "data": {
      "text/plain": [
       "2    BANANA BANANA BANANA DOG\n",
       "3    DOG BANANA BANANA BANANA\n",
       "4    BANANA BANANA DOG BANANA\n",
       "Name: word, dtype: object"
      ]
     },
     "execution_count": 5,
     "metadata": {},
     "output_type": "execute_result"
    }
   ],
   "source": [
    "recommend('BANANA APPLE BANANA DOG')"
   ]
  },
  {
   "cell_type": "markdown",
   "metadata": {},
   "source": [
    "-ソートが関係していたらBANANA BANANA DOG BANANAが1番上に来るはず"
   ]
  },
  {
   "cell_type": "code",
   "execution_count": 6,
   "metadata": {
    "scrolled": false
   },
   "outputs": [
    {
     "data": {
      "text/plain": [
       "3    DOG BANANA BANANA BANANA\n",
       "4    BANANA BANANA DOG BANANA\n",
       "5    BANANA DOG BANANA BANANA\n",
       "Name: word, dtype: object"
      ]
     },
     "execution_count": 6,
     "metadata": {},
     "output_type": "execute_result"
    }
   ],
   "source": [
    "recommend('BANANA BANANA BANANA DOG')"
   ]
  },
  {
   "cell_type": "code",
   "execution_count": 7,
   "metadata": {},
   "outputs": [
    {
     "data": {
      "text/plain": [
       "0     BANANA APPLE BANANA DOG\n",
       "2    BANANA BANANA BANANA DOG\n",
       "3    DOG BANANA BANANA BANANA\n",
       "Name: word, dtype: object"
      ]
     },
     "execution_count": 7,
     "metadata": {},
     "output_type": "execute_result"
    }
   ],
   "source": [
    "recommend('BOOK BANANA APPLE CAT')"
   ]
  }
 ],
 "metadata": {
  "kernelspec": {
   "display_name": "Python 3",
   "language": "python",
   "name": "python3"
  },
  "language_info": {
   "codemirror_mode": {
    "name": "ipython",
    "version": 3
   },
   "file_extension": ".py",
   "mimetype": "text/x-python",
   "name": "python",
   "nbconvert_exporter": "python",
   "pygments_lexer": "ipython3",
   "version": "3.6.9"
  }
 },
 "nbformat": 4,
 "nbformat_minor": 2
}
